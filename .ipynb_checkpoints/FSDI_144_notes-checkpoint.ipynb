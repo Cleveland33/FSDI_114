{
 "cells": [
  {
   "cell_type": "code",
   "execution_count": 5,
   "id": "d019aae6",
   "metadata": {},
   "outputs": [
    {
     "name": "stdout",
     "output_type": "stream",
     "text": [
      "h\n",
      "e\n",
      "l\n",
      "l\n",
      "o\n",
      ",\n",
      " \n",
      "w\n",
      "o\n",
      "r\n",
      "l\n",
      "d\n"
     ]
    }
   ],
   "source": [
    "for letter in \"hello, world\":\n",
    "    print(letter)\n",
    "    \n",
    "\n",
    "#for number in range(100):\n",
    "    #print(number)"
   ]
  },
  {
   "cell_type": "markdown",
   "id": "5840f207",
   "metadata": {},
   "source": [
    "# Problem 1\n",
    "\n",
    "### Given two strings (string_a and string_b) let's check whether or not they are anagrams of each other given the following criteria:\n",
    "> Two strings are only anagrams of each other if all conditions below are met:\n",
    "> * They must be exactly the same length.\n",
    "> * They must use exactly the same characters (no more, no less).\n",
    "Example: cars and scar, heart and earth, etc."
   ]
  },
  {
   "cell_type": "code",
   "execution_count": 29,
   "id": "8727e6c1",
   "metadata": {},
   "outputs": [],
   "source": [
    "def is_anagram(string_a, string_b):\n",
    "    if len(string_a) != len(string_b):                   # covering the length case\n",
    "        return False                                     # simple edge case\n",
    "    char_times_a = dict()                                # lets use two dicts to count,\n",
    "    char_times_b = dict()                                # the number of occurrences per char.\n",
    "    for i in range(len(string_a)):                       # because we know these are of equal len\n",
    "        if string_a[i] not in char_times_a.keys():       # we can simply count how many times we \n",
    "            char_times_a[string_a[i]] = 0                # see each character.\n",
    "        else:\n",
    "            char_times_a[string_a[i]] += 1\n",
    "        if string_b[i] not in char_times_b.keys():\n",
    "            char_times_b[string_b[i]] = 0                # it doesnt matter that these are \n",
    "        else:                                            # different chars that i is accessing.\n",
    "            char_times_b[string_b[i]] += 1           \n",
    "    return char_times_a == char_times_b                  # ...As long as the two are equal.\n",
    "            \n",
    "    "
   ]
  },
  {
   "cell_type": "code",
   "execution_count": 30,
   "id": "afb0e160",
   "metadata": {},
   "outputs": [
    {
     "data": {
      "text/plain": [
       "True"
      ]
     },
     "execution_count": 30,
     "metadata": {},
     "output_type": "execute_result"
    }
   ],
   "source": [
    "is_anagram(\"cars\", \"scar\")"
   ]
  },
  {
   "cell_type": "code",
   "execution_count": 31,
   "id": "8512b442",
   "metadata": {},
   "outputs": [
    {
     "data": {
      "text/plain": [
       "False"
      ]
     },
     "execution_count": 31,
     "metadata": {},
     "output_type": "execute_result"
    }
   ],
   "source": [
    "is_anagram(\"sccr\", \"scar\")"
   ]
  },
  {
   "cell_type": "code",
   "execution_count": 53,
   "id": "71f430de",
   "metadata": {},
   "outputs": [
    {
     "name": "stdout",
     "output_type": "stream",
     "text": [
      "True\n"
     ]
    }
   ],
   "source": [
    "# Function to check if `X` and `Y` are anagrams or not\n",
    "def isAnagram(X, Y):\n",
    " \n",
    "    # if X's length is not the same as Y's, they can't be an anagram\n",
    "    if len(X) != len(Y):\n",
    "        return False\n",
    " \n",
    "    # create an empty dictionary\n",
    "    freq = {}\n",
    " \n",
    "    # maintain the count of each character of `X` in the dictionary\n",
    "    for i in range(len(X)):\n",
    "        freq[X[i]] = freq.get(X[i], 0) + 1\n",
    " \n",
    "    # do for each character `y` of `Y`\n",
    "    for i in range(len(Y)):\n",
    " \n",
    "        # if `y` is found not in the dictionary, i.e., either `y` is not present\n",
    "        # in string `X` or has more occurrences in string `Y`\n",
    "        if not Y[i] in freq:\n",
    "            return False\n",
    " \n",
    "        # decrease the frequency of `y` on the dictionary\n",
    "        freq[Y[i]] = freq[Y[i]] - 1\n",
    " \n",
    "        # if its frequency becomes 0, erase it from the dictionary\n",
    "        if freq[Y[i]] == 0:\n",
    "            del freq[Y[i]]\n",
    " \n",
    "    # return true if the dictionary becomes empty\n",
    "    return not freq\n",
    " \n",
    " \n",
    "if __name__ == '__main__':\n",
    " \n",
    "    X = \"tommarvoloriddle\"    # Tom Marvolo Riddle\n",
    "    Y = \"iamlordvoldemort\"    # I am Lord Voldemort\n",
    " \n",
    "    if isAnagram(X, Y):\n",
    "        print(\"True\")\n",
    "    else:\n",
    "        print(\"False\")"
   ]
  },
  {
   "cell_type": "code",
   "execution_count": null,
   "id": "60b886fb",
   "metadata": {},
   "outputs": [],
   "source": [
    "class Stack:\n",
    "    def __init__(self):\n",
    "        self.items = []\n",
    "        \n",
    "    def is_empty(self):\n",
    "        return self.items == []\n",
    "    \n",
    "    def push(self, item):\n",
    "        self.items.append(item)\n",
    "        \n",
    "    def pop(self):\n",
    "        return self.items.pop()\n",
    "    \n",
    "    def peek(self):\n",
    "        return self.items[len(self.items)-1]\n",
    "    \n",
    "    def size(self):\n",
    "        return len(self.items)"
   ]
  },
  {
   "cell_type": "code",
   "execution_count": null,
   "id": "e6e12b79",
   "metadata": {},
   "outputs": [],
   "source": []
  }
 ],
 "metadata": {
  "kernelspec": {
   "display_name": "Python 3",
   "language": "python",
   "name": "python3"
  },
  "language_info": {
   "codemirror_mode": {
    "name": "ipython",
    "version": 3
   },
   "file_extension": ".py",
   "mimetype": "text/x-python",
   "name": "python",
   "nbconvert_exporter": "python",
   "pygments_lexer": "ipython3",
   "version": "3.8.5"
  }
 },
 "nbformat": 4,
 "nbformat_minor": 5
}
